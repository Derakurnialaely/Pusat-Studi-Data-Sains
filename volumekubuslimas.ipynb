{
  "nbformat": 4,
  "nbformat_minor": 0,
  "metadata": {
    "colab": {
      "name": "volumekubuslimas.ipynb",
      "provenance": [],
      "authorship_tag": "ABX9TyMONNG5VTjshlsuG9ObJAc5",
      "include_colab_link": true
    },
    "kernelspec": {
      "name": "python3",
      "display_name": "Python 3"
    }
  },
  "cells": [
    {
      "cell_type": "markdown",
      "metadata": {
        "id": "view-in-github",
        "colab_type": "text"
      },
      "source": [
        "<a href=\"https://colab.research.google.com/github/Derakurnialaely/Pusat-Studi-Data-Sains/blob/main/volumekubuslimas.ipynb\" target=\"_parent\"><img src=\"https://colab.research.google.com/assets/colab-badge.svg\" alt=\"Open In Colab\"/></a>"
      ]
    },
    {
      "cell_type": "markdown",
      "metadata": {
        "id": "YtegDc09P79f"
      },
      "source": [
        "# **Last Project**"
      ]
    },
    {
      "cell_type": "markdown",
      "metadata": {
        "id": "WgEPNfODQrrD"
      },
      "source": [
        "Kolom 1 | Kolom 2 \r\n",
        "--------|---------\r\n",
        "Nama    | Dera Kurnia Laely\r\n",
        "NIM     | 1800015087\r\n",
        "Semester| 5"
      ]
    },
    {
      "cell_type": "markdown",
      "metadata": {
        "id": "tJ5djr5UTsyf"
      },
      "source": [
        "Volume Kombinasi Kubus dan Limas"
      ]
    },
    {
      "cell_type": "code",
      "metadata": {
        "colab": {
          "base_uri": "https://localhost:8080/"
        },
        "id": "SOCXGqC67FdM",
        "outputId": "78610b47-0d89-4cf2-89c9-e760b335b429"
      },
      "source": [
        "def volume_kubus(s):\r\n",
        "    volume_kubus=a*a*a\r\n",
        "    return volume_kubus\r\n",
        "\r\n",
        "def volume_limas(a,t):\r\n",
        "    luasalas=a*a\r\n",
        "    volume_limas=1/3*luasalas*t\r\n",
        "    return volume_limas\r\n",
        "\r\n",
        "def volume_kombinasi(a,t):\r\n",
        "    volume1=volume_kubus(a)\r\n",
        "    volume2=volume_limas(a,t)\r\n",
        "    volume_kombinasi=volume1+volume2\r\n",
        "    return volume_kombinasi\r\n",
        "\r\n",
        "a=float(input(\"masukkan nilai a:\"))\r\n",
        "t=float(input(\"masukkan nilai t:\"))\r\n",
        "\r\n",
        "print(\"volume_kombinasi\", volume_kombinasi(a,t))"
      ],
      "execution_count": 12,
      "outputs": [
        {
          "output_type": "stream",
          "text": [
            "masukkan nilai a:3\n",
            "masukkan nilai t:4\n",
            "volume_kombinasi 39.0\n"
          ],
          "name": "stdout"
        }
      ]
    }
  ]
}