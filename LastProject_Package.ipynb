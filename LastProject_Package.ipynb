{
  "nbformat": 4,
  "nbformat_minor": 0,
  "metadata": {
    "colab": {
      "name": "LastProject_Package.ipynb",
      "provenance": [],
      "authorship_tag": "ABX9TyMbXgwmMMX3NWbeLjgo3XjB",
      "include_colab_link": true
    },
    "kernelspec": {
      "name": "python3",
      "display_name": "Python 3"
    }
  },
  "cells": [
    {
      "cell_type": "markdown",
      "metadata": {
        "id": "view-in-github",
        "colab_type": "text"
      },
      "source": [
        "<a href=\"https://colab.research.google.com/github/Derakurnialaely/Pusat-Studi-Data-Sains/blob/main/LastProject_Package.ipynb\" target=\"_parent\"><img src=\"https://colab.research.google.com/assets/colab-badge.svg\" alt=\"Open In Colab\"/></a>"
      ]
    },
    {
      "cell_type": "code",
      "metadata": {
        "colab": {
          "base_uri": "https://localhost:8080/"
        },
        "id": "tSzdyhOuIPUZ",
        "outputId": "bfe21d9c-7679-492a-b40f-7195c47e4d89"
      },
      "source": [
        "import volumekubuslimas as volumekl\r\n",
        "volumekl.volume_kombinasi(3,4)"
      ],
      "execution_count": 3,
      "outputs": [
        {
          "output_type": "execute_result",
          "data": {
            "text/plain": [
              "39.0"
            ]
          },
          "metadata": {
            "tags": []
          },
          "execution_count": 3
        }
      ]
    }
  ]
}